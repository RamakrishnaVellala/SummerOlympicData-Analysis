{
  "nbformat": 4,
  "nbformat_minor": 0,
  "metadata": {
    "kernelspec": {
      "display_name": "Python 2",
      "language": "python",
      "name": "python2"
    },
    "language_info": {
      "codemirror_mode": {
        "name": "ipython",
        "version": 2
      },
      "file_extension": ".py",
      "mimetype": "text/x-python",
      "name": "python",
      "nbconvert_exporter": "python",
      "pygments_lexer": "ipython2",
      "version": "2.7.16"
    },
    "colab": {
      "name": "Summer.ipynb",
      "provenance": [],
      "collapsed_sections": [],
      "include_colab_link": true
    }
  },
  "cells": [
    {
      "cell_type": "markdown",
      "metadata": {
        "id": "view-in-github",
        "colab_type": "text"
      },
      "source": [
        "<a href=\"https://colab.research.google.com/github/RamakrishnaVellala/SummerOlympicData-Analysis/blob/main/Summer.ipynb\" target=\"_parent\"><img src=\"https://colab.research.google.com/assets/colab-badge.svg\" alt=\"Open In Colab\"/></a>"
      ]
    },
    {
      "cell_type": "markdown",
      "metadata": {
        "id": "Jl-ixO0BjU2F"
      },
      "source": [
        "# Summer Olympics Data Analysis Assignment"
      ]
    },
    {
      "cell_type": "markdown",
      "metadata": {
        "id": "pelWmFzRjU2J"
      },
      "source": [
        "### 1. In how many cities Summer Olympics is held so far?"
      ]
    },
    {
      "cell_type": "code",
      "metadata": {
        "colab": {
          "base_uri": "https://localhost:8080/"
        },
        "id": "MuTqFl47RRkX",
        "outputId": "a25d328a-6beb-4d71-9b18-c324967bfebd"
      },
      "source": [
        "import pandas as pd\n",
        "df=pd.read_csv(\"/content/sample_data/summer.csv\")\n",
        "count=len(df['City'].unique())\n",
        "count\n"
      ],
      "execution_count": 13,
      "outputs": [
        {
          "output_type": "execute_result",
          "data": {
            "text/plain": [
              "22"
            ]
          },
          "metadata": {},
          "execution_count": 13
        }
      ]
    },
    {
      "cell_type": "markdown",
      "metadata": {
        "id": "YWDRkXdKjU2L"
      },
      "source": [
        "### 2. Which sport is having most number of Gold Medals so far? (Top 5)"
      ]
    },
    {
      "cell_type": "code",
      "metadata": {
        "id": "ExdGNef8SO16"
      },
      "source": [
        "sportInOlympics = df[ (df.Medal == 'Gold')]\n",
        "\n"
      ],
      "execution_count": 15,
      "outputs": []
    },
    {
      "cell_type": "code",
      "metadata": {
        "id": "V07HG6norqaa",
        "colab": {
          "base_uri": "https://localhost:8080/",
          "height": 204
        },
        "outputId": "a92dfd87-a7ed-4575-c866-8fbda0f8208d"
      },
      "source": [
        "data=[]\n",
        "for sport in sportInOlympics['Sport'].unique():\n",
        "    data.append([sport,len(sportInOlympics[sportInOlympics['Sport']==sport])])\n",
        "data=pd.DataFrame(data, columns=['Sport','No. of gold medals']) \n",
        "data=data.sort_values(by='No. of gold medals', ascending=False).head()\n",
        "data"
      ],
      "execution_count": 16,
      "outputs": [
        {
          "output_type": "execute_result",
          "data": {
            "text/plain": [
              "         Sport  No. of gold medals\n",
              "0     Aquatics                1421\n",
              "1    Athletics                1215\n",
              "17      Rowing                 890\n",
              "4   Gymnastics                 820\n",
              "3      Fencing                 552"
            ],
            "text/html": [
              "<div>\n",
              "<style scoped>\n",
              "    .dataframe tbody tr th:only-of-type {\n",
              "        vertical-align: middle;\n",
              "    }\n",
              "\n",
              "    .dataframe tbody tr th {\n",
              "        vertical-align: top;\n",
              "    }\n",
              "\n",
              "    .dataframe thead th {\n",
              "        text-align: right;\n",
              "    }\n",
              "</style>\n",
              "<table border=\"1\" class=\"dataframe\">\n",
              "  <thead>\n",
              "    <tr style=\"text-align: right;\">\n",
              "      <th></th>\n",
              "      <th>Sport</th>\n",
              "      <th>No. of gold medals</th>\n",
              "    </tr>\n",
              "  </thead>\n",
              "  <tbody>\n",
              "    <tr>\n",
              "      <th>0</th>\n",
              "      <td>Aquatics</td>\n",
              "      <td>1421</td>\n",
              "    </tr>\n",
              "    <tr>\n",
              "      <th>1</th>\n",
              "      <td>Athletics</td>\n",
              "      <td>1215</td>\n",
              "    </tr>\n",
              "    <tr>\n",
              "      <th>17</th>\n",
              "      <td>Rowing</td>\n",
              "      <td>890</td>\n",
              "    </tr>\n",
              "    <tr>\n",
              "      <th>4</th>\n",
              "      <td>Gymnastics</td>\n",
              "      <td>820</td>\n",
              "    </tr>\n",
              "    <tr>\n",
              "      <th>3</th>\n",
              "      <td>Fencing</td>\n",
              "      <td>552</td>\n",
              "    </tr>\n",
              "  </tbody>\n",
              "</table>\n",
              "</div>"
            ]
          },
          "metadata": {},
          "execution_count": 16
        }
      ]
    },
    {
      "cell_type": "code",
      "metadata": {
        "colab": {
          "base_uri": "https://localhost:8080/",
          "height": 348
        },
        "id": "5c3EZ20SQKfW",
        "outputId": "9fab2f9b-a454-4bf7-ac29-01f8fabd38c6"
      },
      "source": [
        "data.plot(x='Sport',y='No. of gold medals',kind='bar')"
      ],
      "execution_count": 17,
      "outputs": [
        {
          "output_type": "execute_result",
          "data": {
            "text/plain": [
              "<matplotlib.axes._subplots.AxesSubplot at 0x7ff9a9893e90>"
            ]
          },
          "metadata": {},
          "execution_count": 17
        },
        {
          "output_type": "display_data",
          "data": {
            "image/png": "[encoded data removed]",
            "text/plain": [
              "<Figure size 432x288 with 1 Axes>"
            ]
          },
          "metadata": {
            "needs_background": "light"
          }
        }
      ]
    },
    {
      "cell_type": "markdown",
      "metadata": {
        "id": "-v0ZGoEJjU2L"
      },
      "source": [
        "### 3. Which sport is having most number of medals so far? (Top 5)"
      ]
    },
    {
      "cell_type": "code",
      "metadata": {
        "id": "Pg00xft-jU2L",
        "colab": {
          "base_uri": "https://localhost:8080/",
          "height": 204
        },
        "outputId": "316eb39b-88af-43bf-b95e-61b0739c2bae"
      },
      "source": [
        "data=[]\n",
        "for sport in df['Sport'].unique():\n",
        "    data.append([sport,len(df[df['Sport']==sport])])\n",
        "data=pd.DataFrame(data, columns=['Sport','No. of medals']) \n",
        "data=data.sort_values(by='No. of medals', ascending=False).head()\n",
        "data"
      ],
      "execution_count": 18,
      "outputs": [
        {
          "output_type": "execute_result",
          "data": {
            "text/plain": [
              "         Sport  No. of medals\n",
              "0     Aquatics           4170\n",
              "1    Athletics           3638\n",
              "17      Rowing           2667\n",
              "4   Gymnastics           2307\n",
              "3      Fencing           1613"
            ],
            "text/html": [
              "<div>\n",
              "<style scoped>\n",
              "    .dataframe tbody tr th:only-of-type {\n",
              "        vertical-align: middle;\n",
              "    }\n",
              "\n",
              "    .dataframe tbody tr th {\n",
              "        vertical-align: top;\n",
              "    }\n",
              "\n",
              "    .dataframe thead th {\n",
              "        text-align: right;\n",
              "    }\n",
              "</style>\n",
              "<table border=\"1\" class=\"dataframe\">\n",
              "  <thead>\n",
              "    <tr style=\"text-align: right;\">\n",
              "      <th></th>\n",
              "      <th>Sport</th>\n",
              "      <th>No. of medals</th>\n",
              "    </tr>\n",
              "  </thead>\n",
              "  <tbody>\n",
              "    <tr>\n",
              "      <th>0</th>\n",
              "      <td>Aquatics</td>\n",
              "      <td>4170</td>\n",
              "    </tr>\n",
              "    <tr>\n",
              "      <th>1</th>\n",
              "      <td>Athletics</td>\n",
              "      <td>3638</td>\n",
              "    </tr>\n",
              "    <tr>\n",
              "      <th>17</th>\n",
              "      <td>Rowing</td>\n",
              "      <td>2667</td>\n",
              "    </tr>\n",
              "    <tr>\n",
              "      <th>4</th>\n",
              "      <td>Gymnastics</td>\n",
              "      <td>2307</td>\n",
              "    </tr>\n",
              "    <tr>\n",
              "      <th>3</th>\n",
              "      <td>Fencing</td>\n",
              "      <td>1613</td>\n",
              "    </tr>\n",
              "  </tbody>\n",
              "</table>\n",
              "</div>"
            ]
          },
          "metadata": {},
          "execution_count": 18
        }
      ]
    },
    {
      "cell_type": "code",
      "metadata": {
        "colab": {
          "base_uri": "https://localhost:8080/",
          "height": 348
        },
        "id": "T2-W_CM0Qk0w",
        "outputId": "d71e33ca-ec89-4e22-e7c3-027cfffd7b80"
      },
      "source": [
        "data.plot(x='Sport',y='No. of medals',kind='bar')"
      ],
      "execution_count": 19,
      "outputs": [
        {
          "output_type": "execute_result",
          "data": {
            "text/plain": [
              "<matplotlib.axes._subplots.AxesSubplot at 0x7ff9a96f6c50>"
            ]
          },
          "metadata": {},
          "execution_count": 19
        },
        {
          "output_type": "display_data",
          "data": {
            "image/png": "[encoded data removed]",
            "text/plain": [
              "<Figure size 432x288 with 1 Axes>"
            ]
          },
          "metadata": {
            "needs_background": "light"
          }
        }
      ]
    },
    {
      "cell_type": "markdown",
      "metadata": {
        "id": "Mp3PgoHgjU2M"
      },
      "source": [
        "### 4. Which player has won most number of medals? (Top 5)"
      ]
    },
    {
      "cell_type": "code",
      "metadata": {
        "id": "rVikYRpGjU2M",
        "colab": {
          "base_uri": "https://localhost:8080/",
          "height": 204
        },
        "outputId": "45826c92-00ae-4351-e6e6-10a2bc0a888a"
      },
      "source": [
        "data=[]\n",
        "for sport in df['Athlete'].unique():\n",
        "    data.append([sport,len(df[df['Athlete']==sport])])\n",
        "data=pd.DataFrame(data, columns=['Athlete','No. of medals']) \n",
        "data=data.sort_values(by='No. of medals', ascending=False).head()\n",
        "data"
      ],
      "execution_count": 20,
      "outputs": [
        {
          "output_type": "execute_result",
          "data": {
            "text/plain": [
              "                    Athlete  No. of medals\n",
              "18640       PHELPS, Michael             22\n",
              "7197       LATYNINA, Larisa             18\n",
              "9948     ANDRIANOV, Nikolay             15\n",
              "6591           ONO, Takashi             13\n",
              "5103   MANGIAROTTI, Edoardo             13"
            ],
            "text/html": [
              "<div>\n",
              "<style scoped>\n",
              "    .dataframe tbody tr th:only-of-type {\n",
              "        vertical-align: middle;\n",
              "    }\n",
              "\n",
              "    .dataframe tbody tr th {\n",
              "        vertical-align: top;\n",
              "    }\n",
              "\n",
              "    .dataframe thead th {\n",
              "        text-align: right;\n",
              "    }\n",
              "</style>\n",
              "<table border=\"1\" class=\"dataframe\">\n",
              "  <thead>\n",
              "    <tr style=\"text-align: right;\">\n",
              "      <th></th>\n",
              "      <th>Athlete</th>\n",
              "      <th>No. of medals</th>\n",
              "    </tr>\n",
              "  </thead>\n",
              "  <tbody>\n",
              "    <tr>\n",
              "      <th>18640</th>\n",
              "      <td>PHELPS, Michael</td>\n",
              "      <td>22</td>\n",
              "    </tr>\n",
              "    <tr>\n",
              "      <th>7197</th>\n",
              "      <td>LATYNINA, Larisa</td>\n",
              "      <td>18</td>\n",
              "    </tr>\n",
              "    <tr>\n",
              "      <th>9948</th>\n",
              "      <td>ANDRIANOV, Nikolay</td>\n",
              "      <td>15</td>\n",
              "    </tr>\n",
              "    <tr>\n",
              "      <th>6591</th>\n",
              "      <td>ONO, Takashi</td>\n",
              "      <td>13</td>\n",
              "    </tr>\n",
              "    <tr>\n",
              "      <th>5103</th>\n",
              "      <td>MANGIAROTTI, Edoardo</td>\n",
              "      <td>13</td>\n",
              "    </tr>\n",
              "  </tbody>\n",
              "</table>\n",
              "</div>"
            ]
          },
          "metadata": {},
          "execution_count": 20
        }
      ]
    },
    {
      "cell_type": "code",
      "metadata": {
        "colab": {
          "base_uri": "https://localhost:8080/",
          "height": 407
        },
        "id": "6yOVeEFEp2j0",
        "outputId": "bc670a30-5f8b-406a-a58d-eff0d0e9cc24"
      },
      "source": [
        "data.plot(x='Athlete',y='No. of medals',kind='bar')"
      ],
      "execution_count": 11,
      "outputs": [
        {
          "output_type": "execute_result",
          "data": {
            "text/plain": [
              "<matplotlib.axes._subplots.AxesSubplot at 0x7ff9a9970110>"
            ]
          },
          "metadata": {},
          "execution_count": 11
        },
        {
          "output_type": "display_data",
          "data": {
            "image/png": "[encoded data removed]",
            "text/plain": [
              "<Figure size 432x288 with 1 Axes>"
            ]
          },
          "metadata": {
            "needs_background": "light"
          }
        }
      ]
    },
    {
      "cell_type": "markdown",
      "metadata": {
        "id": "sXbr5x25jU2M"
      },
      "source": [
        "### 5. Which player has won most number Gold Medals of medals? (Top 5)"
      ]
    },
    {
      "cell_type": "code",
      "metadata": {
        "id": "4-u0dNSYjU2N"
      },
      "source": [
        "playerInOlympics = df[ (df.Medal == 'Gold')]\n"
      ],
      "execution_count": 23,
      "outputs": []
    },
    {
      "cell_type": "code",
      "metadata": {
        "colab": {
          "base_uri": "https://localhost:8080/",
          "height": 204
        },
        "id": "iz-i6oosrRQr",
        "outputId": "21dae281-55d4-413e-f295-7d9ebb40d2b1"
      },
      "source": [
        "data=[]\n",
        "for sport in playerInOlympics['Athlete'].unique():\n",
        "    data.append([sport,len(playerInOlympics[playerInOlympics['Athlete']==sport])])\n",
        "data=pd.DataFrame(data, columns=['Athlete','No. of gold medals']) \n",
        "data=data.sort_values(by='No. of gold medals', ascending=False).head()\n",
        "data"
      ],
      "execution_count": 24,
      "outputs": [
        {
          "output_type": "execute_result",
          "data": {
            "text/plain": [
              "               Athlete  No. of gold medals\n",
              "6851   PHELPS, Michael                  18\n",
              "3320       SPITZ, Mark                   9\n",
              "2714  LATYNINA, Larisa                   9\n",
              "4630       LEWIS, Carl                   9\n",
              "907       NURMI, Paavo                   9"
            ],
            "text/html": [
              "<div>\n",
              "<style scoped>\n",
              "    .dataframe tbody tr th:only-of-type {\n",
              "        vertical-align: middle;\n",
              "    }\n",
              "\n",
              "    .dataframe tbody tr th {\n",
              "        vertical-align: top;\n",
              "    }\n",
              "\n",
              "    .dataframe thead th {\n",
              "        text-align: right;\n",
              "    }\n",
              "</style>\n",
              "<table border=\"1\" class=\"dataframe\">\n",
              "  <thead>\n",
              "    <tr style=\"text-align: right;\">\n",
              "      <th></th>\n",
              "      <th>Athlete</th>\n",
              "      <th>No. of gold medals</th>\n",
              "    </tr>\n",
              "  </thead>\n",
              "  <tbody>\n",
              "    <tr>\n",
              "      <th>6851</th>\n",
              "      <td>PHELPS, Michael</td>\n",
              "      <td>18</td>\n",
              "    </tr>\n",
              "    <tr>\n",
              "      <th>3320</th>\n",
              "      <td>SPITZ, Mark</td>\n",
              "      <td>9</td>\n",
              "    </tr>\n",
              "    <tr>\n",
              "      <th>2714</th>\n",
              "      <td>LATYNINA, Larisa</td>\n",
              "      <td>9</td>\n",
              "    </tr>\n",
              "    <tr>\n",
              "      <th>4630</th>\n",
              "      <td>LEWIS, Carl</td>\n",
              "      <td>9</td>\n",
              "    </tr>\n",
              "    <tr>\n",
              "      <th>907</th>\n",
              "      <td>NURMI, Paavo</td>\n",
              "      <td>9</td>\n",
              "    </tr>\n",
              "  </tbody>\n",
              "</table>\n",
              "</div>"
            ]
          },
          "metadata": {},
          "execution_count": 24
        }
      ]
    },
    {
      "cell_type": "code",
      "metadata": {
        "colab": {
          "base_uri": "https://localhost:8080/",
          "height": 375
        },
        "id": "3Kf8E-c5r6hu",
        "outputId": "4734cff8-5de2-4945-ff11-7888dd6b150a"
      },
      "source": [
        "data.plot(x='Athlete',y='No. of gold medals',kind='bar')"
      ],
      "execution_count": 25,
      "outputs": [
        {
          "output_type": "execute_result",
          "data": {
            "text/plain": [
              "<matplotlib.axes._subplots.AxesSubplot at 0x7ff9a98c8790>"
            ]
          },
          "metadata": {},
          "execution_count": 25
        },
        {
          "output_type": "display_data",
          "data": {
            "image/png": "[encoded data removed]",
            "text/plain": [
              "<Figure size 432x288 with 1 Axes>"
            ]
          },
          "metadata": {
            "needs_background": "light"
          }
        }
      ]
    },
    {
      "cell_type": "markdown",
      "metadata": {
        "id": "_lo9zTtajU2N"
      },
      "source": [
        "### 6. In which year India won first Gold Medal in Summer Olympics?"
      ]
    },
    {
      "cell_type": "code",
      "metadata": {
        "id": "Mvc_r8F5jU2N",
        "colab": {
          "base_uri": "https://localhost:8080/",
          "height": 80
        },
        "outputId": "405d5622-3e33-4c92-8aad-7911fa9610d3"
      },
      "source": [
        "IndiaInOlympics = df[(df.Country==\"IND\") & (df.Medal == 'Gold')]\n",
        "IndiaInOlympics.head(1)"
      ],
      "execution_count": 26,
      "outputs": [
        {
          "output_type": "execute_result",
          "data": {
            "text/plain": [
              "      Year       City   Sport Discipline               Athlete Country Gender  \\\n",
              "5512  1928  Amsterdam  Hockey     Hockey  ALLEN, Richard James     IND    Men   \n",
              "\n",
              "       Event Medal  \n",
              "5512  Hockey  Gold  "
            ],
            "text/html": [
              "<div>\n",
              "<style scoped>\n",
              "    .dataframe tbody tr th:only-of-type {\n",
              "        vertical-align: middle;\n",
              "    }\n",
              "\n",
              "    .dataframe tbody tr th {\n",
              "        vertical-align: top;\n",
              "    }\n",
              "\n",
              "    .dataframe thead th {\n",
              "        text-align: right;\n",
              "    }\n",
              "</style>\n",
              "<table border=\"1\" class=\"dataframe\">\n",
              "  <thead>\n",
              "    <tr style=\"text-align: right;\">\n",
              "      <th></th>\n",
              "      <th>Year</th>\n",
              "      <th>City</th>\n",
              "      <th>Sport</th>\n",
              "      <th>Discipline</th>\n",
              "      <th>Athlete</th>\n",
              "      <th>Country</th>\n",
              "      <th>Gender</th>\n",
              "      <th>Event</th>\n",
              "      <th>Medal</th>\n",
              "    </tr>\n",
              "  </thead>\n",
              "  <tbody>\n",
              "    <tr>\n",
              "      <th>5512</th>\n",
              "      <td>1928</td>\n",
              "      <td>Amsterdam</td>\n",
              "      <td>Hockey</td>\n",
              "      <td>Hockey</td>\n",
              "      <td>ALLEN, Richard James</td>\n",
              "      <td>IND</td>\n",
              "      <td>Men</td>\n",
              "      <td>Hockey</td>\n",
              "      <td>Gold</td>\n",
              "    </tr>\n",
              "  </tbody>\n",
              "</table>\n",
              "</div>"
            ]
          },
          "metadata": {},
          "execution_count": 26
        }
      ]
    },
    {
      "cell_type": "markdown",
      "metadata": {
        "id": "NwrHzpyxjU2O"
      },
      "source": [
        "### 7. Which event is most popular in terms on number of players? (Top 5)"
      ]
    },
    {
      "cell_type": "code",
      "metadata": {
        "id": "nDkH3Oj9jU2O",
        "colab": {
          "base_uri": "https://localhost:8080/",
          "height": 204
        },
        "outputId": "38e3dc7d-5d4f-4bc5-d26b-256268366e2d"
      },
      "source": [
        "data=[]\n",
        "for sport in df['Event'].unique():\n",
        "    data.append([sport,len(df[df['Event']==sport])])\n",
        "data=pd.DataFrame(data, columns=['Event','No. of players']) \n",
        "data=data.sort_values(by='No. of players', ascending=False).head()\n",
        "data"
      ],
      "execution_count": 30,
      "outputs": [
        {
          "output_type": "execute_result",
          "data": {
            "text/plain": [
              "                Event  No. of players\n",
              "80           Football            1497\n",
              "176            Hockey            1422\n",
              "138  Team Competition            1147\n",
              "327        Basketball            1012\n",
              "337          Handball             973"
            ],
            "text/html": [
              "<div>\n",
              "<style scoped>\n",
              "    .dataframe tbody tr th:only-of-type {\n",
              "        vertical-align: middle;\n",
              "    }\n",
              "\n",
              "    .dataframe tbody tr th {\n",
              "        vertical-align: top;\n",
              "    }\n",
              "\n",
              "    .dataframe thead th {\n",
              "        text-align: right;\n",
              "    }\n",
              "</style>\n",
              "<table border=\"1\" class=\"dataframe\">\n",
              "  <thead>\n",
              "    <tr style=\"text-align: right;\">\n",
              "      <th></th>\n",
              "      <th>Event</th>\n",
              "      <th>No. of players</th>\n",
              "    </tr>\n",
              "  </thead>\n",
              "  <tbody>\n",
              "    <tr>\n",
              "      <th>80</th>\n",
              "      <td>Football</td>\n",
              "      <td>1497</td>\n",
              "    </tr>\n",
              "    <tr>\n",
              "      <th>176</th>\n",
              "      <td>Hockey</td>\n",
              "      <td>1422</td>\n",
              "    </tr>\n",
              "    <tr>\n",
              "      <th>138</th>\n",
              "      <td>Team Competition</td>\n",
              "      <td>1147</td>\n",
              "    </tr>\n",
              "    <tr>\n",
              "      <th>327</th>\n",
              "      <td>Basketball</td>\n",
              "      <td>1012</td>\n",
              "    </tr>\n",
              "    <tr>\n",
              "      <th>337</th>\n",
              "      <td>Handball</td>\n",
              "      <td>973</td>\n",
              "    </tr>\n",
              "  </tbody>\n",
              "</table>\n",
              "</div>"
            ]
          },
          "metadata": {},
          "execution_count": 30
        }
      ]
    },
    {
      "cell_type": "code",
      "metadata": {
        "colab": {
          "base_uri": "https://localhost:8080/",
          "height": 382
        },
        "id": "gw-ySWC-vWKK",
        "outputId": "ad50c927-567b-4eb5-9c6b-faa64c6da4dd"
      },
      "source": [
        "data.plot(x='Event',y='No. of players',kind='bar')"
      ],
      "execution_count": 31,
      "outputs": [
        {
          "output_type": "execute_result",
          "data": {
            "text/plain": [
              "<matplotlib.axes._subplots.AxesSubplot at 0x7ff9a95a1c50>"
            ]
          },
          "metadata": {},
          "execution_count": 31
        },
        {
          "output_type": "display_data",
          "data": {
            "image/png": "[encoded data removed]",
            "text/plain": [
              "<Figure size 432x288 with 1 Axes>"
            ]
          },
          "metadata": {
            "needs_background": "light"
          }
        }
      ]
    },
    {
      "cell_type": "markdown",
      "metadata": {
        "id": "N3pT9ENGjU2O"
      },
      "source": [
        "### 8. Which sport is having most female Gold Medalists? (Top 5)"
      ]
    },
    {
      "cell_type": "code",
      "metadata": {
        "id": "9b6NpRVhjU2P",
        "colab": {
          "base_uri": "https://localhost:8080/",
          "height": 204
        },
        "outputId": "2336d938-1b27-42ac-a272-4e39885f46fb"
      },
      "source": [
        "womenInOlympics = df[(df.Gender == 'Women') & (df.Medal == 'Gold')]\n",
        "data=[]\n",
        "for sport in womenInOlympics['Sport'].unique():\n",
        "    data.append([sport,len(womenInOlympics[womenInOlympics['Sport']==sport])])\n",
        "data=pd.DataFrame(data, columns=['Sport','No. of female gold medalists']) \n",
        "data=data.sort_values(by='No. of female gold medalists', ascending=False).head()\n",
        "data"
      ],
      "execution_count": 34,
      "outputs": [
        {
          "output_type": "execute_result",
          "data": {
            "text/plain": [
              "         Sport  No. of female gold medalists\n",
              "4     Aquatics                           589\n",
              "7    Athletics                           389\n",
              "8   Gymnastics                           268\n",
              "14      Rowing                           217\n",
              "11  Volleyball                           166"
            ],
            "text/html": [
              "<div>\n",
              "<style scoped>\n",
              "    .dataframe tbody tr th:only-of-type {\n",
              "        vertical-align: middle;\n",
              "    }\n",
              "\n",
              "    .dataframe tbody tr th {\n",
              "        vertical-align: top;\n",
              "    }\n",
              "\n",
              "    .dataframe thead th {\n",
              "        text-align: right;\n",
              "    }\n",
              "</style>\n",
              "<table border=\"1\" class=\"dataframe\">\n",
              "  <thead>\n",
              "    <tr style=\"text-align: right;\">\n",
              "      <th></th>\n",
              "      <th>Sport</th>\n",
              "      <th>No. of female gold medalists</th>\n",
              "    </tr>\n",
              "  </thead>\n",
              "  <tbody>\n",
              "    <tr>\n",
              "      <th>4</th>\n",
              "      <td>Aquatics</td>\n",
              "      <td>589</td>\n",
              "    </tr>\n",
              "    <tr>\n",
              "      <th>7</th>\n",
              "      <td>Athletics</td>\n",
              "      <td>389</td>\n",
              "    </tr>\n",
              "    <tr>\n",
              "      <th>8</th>\n",
              "      <td>Gymnastics</td>\n",
              "      <td>268</td>\n",
              "    </tr>\n",
              "    <tr>\n",
              "      <th>14</th>\n",
              "      <td>Rowing</td>\n",
              "      <td>217</td>\n",
              "    </tr>\n",
              "    <tr>\n",
              "      <th>11</th>\n",
              "      <td>Volleyball</td>\n",
              "      <td>166</td>\n",
              "    </tr>\n",
              "  </tbody>\n",
              "</table>\n",
              "</div>"
            ]
          },
          "metadata": {},
          "execution_count": 34
        }
      ]
    },
    {
      "cell_type": "code",
      "metadata": {
        "colab": {
          "base_uri": "https://localhost:8080/",
          "height": 348
        },
        "id": "_iIQxPAhvwTW",
        "outputId": "55fb34dd-fa00-45e8-bcab-7365554e9d2f"
      },
      "source": [
        "data.plot(x='Sport',y='No. of female gold medalists',kind='bar')"
      ],
      "execution_count": 35,
      "outputs": [
        {
          "output_type": "execute_result",
          "data": {
            "text/plain": [
              "<matplotlib.axes._subplots.AxesSubplot at 0x7ff9a9568790>"
            ]
          },
          "metadata": {},
          "execution_count": 35
        },
        {
          "output_type": "display_data",
          "data": {
            "image/png": "[encoded data removed]",
            "text/plain": [
              "<Figure size 432x288 with 1 Axes>"
            ]
          },
          "metadata": {
            "needs_background": "light"
          }
        }
      ]
    }
  ]
}